{
  "nbformat": 4,
  "nbformat_minor": 0,
  "metadata": {
    "colab": {
      "provenance": []
    },
    "kernelspec": {
      "name": "python3",
      "display_name": "Python 3"
    },
    "language_info": {
      "name": "python"
    }
  },
  "cells": [
    {
      "cell_type": "markdown",
      "source": [
        "# My OCR.ipynb\n",
        "- 车牌识别\n",
        "- OCR"
      ],
      "metadata": {
        "id": "YLi5NMkm1fZi"
      }
    },
    {
      "cell_type": "markdown",
      "source": [
        "\n",
        "\n",
        "---\n",
        "\n",
        "\n",
        "#◢ Verify Runtime Settings\n",
        "\n",
        "**<font color='#FF000'> IMPORTANT </font>**\n",
        "\n",
        "In the \"Runtime\" menu for the notebook window, select \"Change runtime type.\" Ensure that the following are selected:\n",
        "* Runtime Type = Python 3\n",
        "* Hardware Accelerator = GPU \n"
      ],
      "metadata": {
        "id": "wQXlMLo_1tGD"
      }
    },
    {
      "cell_type": "markdown",
      "source": [
        "# ◢ Git clone"
      ],
      "metadata": {
        "id": "Oe-RTYc41-cn"
      }
    },
    {
      "cell_type": "code",
      "execution_count": 1,
      "metadata": {
        "colab": {
          "base_uri": "https://localhost:8080/"
        },
        "id": "x147tjVU1PUz",
        "outputId": "55c263e9-90be-4159-fff5-5aeb460697c2"
      },
      "outputs": [
        {
          "output_type": "stream",
          "name": "stdout",
          "text": [
            "Cloning into 'myocr'...\n",
            "warning: redirecting to https://github.com/hktalent/myocr.git/\n",
            "remote: Enumerating objects: 75, done.\u001b[K\n",
            "remote: Counting objects: 100% (40/40), done.\u001b[K\n",
            "remote: Compressing objects: 100% (28/28), done.\u001b[K\n",
            "remote: Total 75 (delta 8), reused 39 (delta 7), pack-reused 35\u001b[K\n",
            "Unpacking objects: 100% (75/75), 61.27 MiB | 5.22 MiB/s, done.\n",
            "/content/myocr\n"
          ]
        }
      ],
      "source": [
        "!git clone http://github.com/hktalent/myocr.git myocr\n",
        "%cd /content/myocr"
      ]
    },
    {
      "cell_type": "markdown",
      "source": [
        " # ◢ Set up the environment"
      ],
      "metadata": {
        "id": "vbft4nXW2N1x"
      }
    },
    {
      "cell_type": "markdown",
      "source": [
        "## install"
      ],
      "metadata": {
        "id": "25SFVDoA4IqU"
      }
    },
    {
      "cell_type": "code",
      "source": [
        "!pip install hyperlpr3\n",
        "!mkdir -p $HOME/.paddleocr\n",
        "!ln -s $PWD/whl $HOME/.paddleocr/whl"
      ],
      "metadata": {
        "colab": {
          "base_uri": "https://localhost:8080/"
        },
        "id": "ES8Y9_ZA33IK",
        "outputId": "b319b195-ca16-4baf-8572-a5e4c6ec773e"
      },
      "execution_count": 9,
      "outputs": [
        {
          "output_type": "stream",
          "name": "stdout",
          "text": [
            "Looking in indexes: https://pypi.org/simple, https://us-python.pkg.dev/colab-wheels/public/simple/\n",
            "Requirement already satisfied: hyperlpr3 in /usr/local/lib/python3.9/dist-packages (0.1.3)\n",
            "Requirement already satisfied: tqdm in /usr/local/lib/python3.9/dist-packages (from hyperlpr3) (4.65.0)\n",
            "Requirement already satisfied: requests in /usr/local/lib/python3.9/dist-packages (from hyperlpr3) (2.27.1)\n",
            "Requirement already satisfied: fastapi in /usr/local/lib/python3.9/dist-packages (from hyperlpr3) (0.95.0)\n",
            "Requirement already satisfied: python-multipart in /usr/local/lib/python3.9/dist-packages (from hyperlpr3) (0.0.6)\n",
            "Requirement already satisfied: loguru in /usr/local/lib/python3.9/dist-packages (from hyperlpr3) (0.6.0)\n",
            "Requirement already satisfied: opencv-python in /usr/local/lib/python3.9/dist-packages (from hyperlpr3) (4.6.0.66)\n",
            "Requirement already satisfied: onnxruntime in /usr/local/lib/python3.9/dist-packages (from hyperlpr3) (1.14.1)\n",
            "Requirement already satisfied: uvicorn in /usr/local/lib/python3.9/dist-packages (from hyperlpr3) (0.21.1)\n",
            "Requirement already satisfied: pydantic!=1.7,!=1.7.1,!=1.7.2,!=1.7.3,!=1.8,!=1.8.1,<2.0.0,>=1.6.2 in /usr/local/lib/python3.9/dist-packages (from fastapi->hyperlpr3) (1.10.6)\n",
            "Requirement already satisfied: starlette<0.27.0,>=0.26.1 in /usr/local/lib/python3.9/dist-packages (from fastapi->hyperlpr3) (0.26.1)\n",
            "Requirement already satisfied: coloredlogs in /usr/local/lib/python3.9/dist-packages (from onnxruntime->hyperlpr3) (15.0.1)\n",
            "Requirement already satisfied: packaging in /usr/local/lib/python3.9/dist-packages (from onnxruntime->hyperlpr3) (23.0)\n",
            "Requirement already satisfied: sympy in /usr/local/lib/python3.9/dist-packages (from onnxruntime->hyperlpr3) (1.11.1)\n",
            "Requirement already satisfied: numpy>=1.21.6 in /usr/local/lib/python3.9/dist-packages (from onnxruntime->hyperlpr3) (1.22.4)\n",
            "Requirement already satisfied: flatbuffers in /usr/local/lib/python3.9/dist-packages (from onnxruntime->hyperlpr3) (23.3.3)\n",
            "Requirement already satisfied: protobuf in /usr/local/lib/python3.9/dist-packages (from onnxruntime->hyperlpr3) (3.20.3)\n",
            "Requirement already satisfied: charset-normalizer~=2.0.0 in /usr/local/lib/python3.9/dist-packages (from requests->hyperlpr3) (2.0.12)\n",
            "Requirement already satisfied: idna<4,>=2.5 in /usr/local/lib/python3.9/dist-packages (from requests->hyperlpr3) (3.4)\n",
            "Requirement already satisfied: certifi>=2017.4.17 in /usr/local/lib/python3.9/dist-packages (from requests->hyperlpr3) (2022.12.7)\n",
            "Requirement already satisfied: urllib3<1.27,>=1.21.1 in /usr/local/lib/python3.9/dist-packages (from requests->hyperlpr3) (1.26.15)\n",
            "Requirement already satisfied: h11>=0.8 in /usr/local/lib/python3.9/dist-packages (from uvicorn->hyperlpr3) (0.14.0)\n",
            "Requirement already satisfied: click>=7.0 in /usr/local/lib/python3.9/dist-packages (from uvicorn->hyperlpr3) (8.1.3)\n",
            "Requirement already satisfied: typing-extensions>=4.2.0 in /usr/local/lib/python3.9/dist-packages (from pydantic!=1.7,!=1.7.1,!=1.7.2,!=1.7.3,!=1.8,!=1.8.1,<2.0.0,>=1.6.2->fastapi->hyperlpr3) (4.5.0)\n",
            "Requirement already satisfied: anyio<5,>=3.4.0 in /usr/local/lib/python3.9/dist-packages (from starlette<0.27.0,>=0.26.1->fastapi->hyperlpr3) (3.6.2)\n",
            "Requirement already satisfied: humanfriendly>=9.1 in /usr/local/lib/python3.9/dist-packages (from coloredlogs->onnxruntime->hyperlpr3) (10.0)\n",
            "Requirement already satisfied: mpmath>=0.19 in /usr/local/lib/python3.9/dist-packages (from sympy->onnxruntime->hyperlpr3) (1.3.0)\n",
            "Requirement already satisfied: sniffio>=1.1 in /usr/local/lib/python3.9/dist-packages (from anyio<5,>=3.4.0->starlette<0.27.0,>=0.26.1->fastapi->hyperlpr3) (1.3.0)\n",
            "ln: failed to create symbolic link '/root/.paddleocr/whl/whl': File exists\n"
          ]
        }
      ]
    },
    {
      "cell_type": "markdown",
      "source": [
        "## 车牌号码识别"
      ],
      "metadata": {
        "id": "KvxIyMmm4NTT"
      }
    },
    {
      "cell_type": "code",
      "source": [
        "!lpr3 sample -h\n",
        "!python chepai3.py"
      ],
      "metadata": {
        "colab": {
          "base_uri": "https://localhost:8080/"
        },
        "id": "Mk9oMV7u2pyF",
        "outputId": "7c8c139c-7753-46e1-d934-ae7b40341649"
      },
      "execution_count": 10,
      "outputs": [
        {
          "output_type": "stream",
          "name": "stdout",
          "text": [
            "Usage: lpr3 sample [OPTIONS]\n",
            "\n",
            "  Exec HyperLPR3 Test Sample.\n",
            "\n",
            "Options:\n",
            "  -src, --src TEXT\n",
            "  -det, --det [low|high]\n",
            "  -h, --help              Show this message and\n",
            "                          exit.\n",
            "[['闽AT8888', 0.9991976, 0, [323, 475, 486, 544]]]\n"
          ]
        }
      ]
    },
    {
      "cell_type": "markdown",
      "source": [
        "## OCR识别"
      ],
      "metadata": {
        "id": "oaZEnKlu4Qli"
      }
    },
    {
      "cell_type": "markdown",
      "source": [
        "### install conda"
      ],
      "metadata": {
        "id": "kh6-0ZKw6Vu4"
      }
    },
    {
      "cell_type": "code",
      "source": [
        "!wget https://repo.anaconda.com/miniconda/Miniconda3-latest-Linux-x86_64.sh && \\\n",
        "    bash Miniconda3-latest-Linux-x86_64.sh -bfp /usr/local && \\\n",
        "    rm Miniconda3-latest-Linux-x86_64.sh\n",
        "!conda update -y conda\n",
        "!conda --version"
      ],
      "metadata": {
        "colab": {
          "base_uri": "https://localhost:8080/"
        },
        "id": "fby_LYTO5eUS",
        "outputId": "17bd0c0f-fa8a-45a4-915e-62e59d64f4fd"
      },
      "execution_count": 12,
      "outputs": [
        {
          "output_type": "stream",
          "name": "stdout",
          "text": [
            "--2023-03-23 09:57:58--  https://repo.anaconda.com/miniconda/Miniconda3-latest-Linux-x86_64.sh\n",
            "Resolving repo.anaconda.com (repo.anaconda.com)... 104.16.131.3, 104.16.130.3, 2606:4700::6810:8203, ...\n",
            "Connecting to repo.anaconda.com (repo.anaconda.com)|104.16.131.3|:443... connected.\n",
            "HTTP request sent, awaiting response... 200 OK\n",
            "Length: 74403966 (71M) [application/x-sh]\n",
            "Saving to: ‘Miniconda3-latest-Linux-x86_64.sh’\n",
            "\n",
            "Miniconda3-latest-L 100%[===================>]  70.96M   197MB/s    in 0.4s    \n",
            "\n",
            "2023-03-23 09:57:58 (197 MB/s) - ‘Miniconda3-latest-Linux-x86_64.sh’ saved [74403966/74403966]\n",
            "\n",
            "PREFIX=/usr/local\n",
            "Unpacking payload ...\n",
            "                                                                                        \n",
            "Installing base environment...\n",
            "\n",
            "\n",
            "Downloading and Extracting Packages\n",
            "\n",
            "\n",
            "Downloading and Extracting Packages\n",
            "\n",
            "Preparing transaction: - \b\b\\ \b\b| \b\b/ \b\bdone\n",
            "Executing transaction: \\ \b\b| \b\b/ \b\b- \b\b\\ \b\b| \b\b/ \b\b- \b\b\\ \b\b| \b\b/ \b\b- \b\b\\ \b\b| \b\b/ \b\b- \b\b\\ \b\b| \b\b/ \b\b- \b\b\\ \b\b| \b\b/ \b\b- \b\b\\ \b\b| \b\b/ \b\bdone\n",
            "installation finished.\n",
            "WARNING:\n",
            "    You currently have a PYTHONPATH environment variable set. This may cause\n",
            "    unexpected behavior when running the Python interpreter in Miniconda3.\n",
            "    For best results, please verify that your PYTHONPATH only points to\n",
            "    directories of packages that are compatible with the Python interpreter\n",
            "    in Miniconda3: /usr/local\n",
            "Collecting package metadata (current_repodata.json): - \b\b\\ \b\b| \b\b/ \b\b- \b\b\\ \b\b| \b\b/ \b\b- \b\b\\ \b\b| \b\b/ \b\b- \b\b\\ \b\b| \b\b/ \b\b- \b\b\\ \b\b| \b\b/ \b\b- \b\b\\ \b\b| \b\b/ \b\b- \b\b\\ \b\b| \b\b/ \b\b- \b\b\\ \b\b| \b\b/ \b\b- \b\b\\ \b\b| \b\bdone\n",
            "Solving environment: - \b\b\\ \b\b| \b\b/ \b\b- \b\b\\ \b\b| \b\b/ \b\b- \b\b\\ \b\b| \b\b/ \b\b- \b\b\\ \b\b| \b\b/ \b\b- \b\b\\ \b\bdone\n",
            "\n",
            "## Package Plan ##\n",
            "\n",
            "  environment location: /usr/local\n",
            "\n",
            "  added / updated specs:\n",
            "    - conda\n",
            "\n",
            "\n",
            "The following packages will be downloaded:\n",
            "\n",
            "    package                    |            build\n",
            "    ---------------------------|-----------------\n",
            "    cryptography-39.0.1        |  py310h9ce1e76_0         1.4 MB\n",
            "    openssl-1.1.1t             |       h7f8727e_0         3.7 MB\n",
            "    pyopenssl-23.0.0           |  py310h06a4308_0          97 KB\n",
            "    requests-2.28.1            |  py310h06a4308_1         100 KB\n",
            "    sqlite-3.41.1              |       h5eee18b_0         1.2 MB\n",
            "    zstandard-0.19.0           |  py310h5eee18b_0         474 KB\n",
            "    ------------------------------------------------------------\n",
            "                                           Total:         7.0 MB\n",
            "\n",
            "The following packages will be UPDATED:\n",
            "\n",
            "  cryptography                       38.0.4-py310h9ce1e76_0 --> 39.0.1-py310h9ce1e76_0 \n",
            "  openssl                                 1.1.1s-h7f8727e_0 --> 1.1.1t-h7f8727e_0 \n",
            "  pyopenssl          pkgs/main/noarch::pyopenssl-22.0.0-py~ --> pkgs/main/linux-64::pyopenssl-23.0.0-py310h06a4308_0 \n",
            "  requests                           2.28.1-py310h06a4308_0 --> 2.28.1-py310h06a4308_1 \n",
            "  sqlite                                  3.40.1-h5082296_0 --> 3.41.1-h5eee18b_0 \n",
            "  zstandard                          0.18.0-py310h5eee18b_0 --> 0.19.0-py310h5eee18b_0 \n",
            "\n",
            "\n",
            "\n",
            "Downloading and Extracting Packages\n",
            "cryptography-39.0.1  | 1.4 MB    | :   0% 0/1 [00:00<?, ?it/s]\n",
            "requests-2.28.1      | 100 KB    | :   0% 0/1 [00:00<?, ?it/s]\u001b[A\n",
            "\n",
            "zstandard-0.19.0     | 474 KB    | :   0% 0/1 [00:00<?, ?it/s]\u001b[A\u001b[A\n",
            "\n",
            "\n",
            "openssl-1.1.1t       | 3.7 MB    | :   0% 0/1 [00:00<?, ?it/s]\u001b[A\u001b[A\u001b[A\n",
            "\n",
            "\n",
            "\n",
            "sqlite-3.41.1        | 1.2 MB    | :   0% 0/1 [00:00<?, ?it/s]\u001b[A\u001b[A\u001b[A\u001b[A\n",
            "\n",
            "\n",
            "\n",
            "\n",
            "cryptography-39.0.1  | 1.4 MB    | :   1% 0.011030448859287046/1 [00:00<00:09,  9.10s/it]\n",
            "requests-2.28.1      | 100 KB    | :  48% 0.4795317073170732/1 [00:00<00:00,  4.53it/s]\u001b[A\n",
            "\n",
            "\n",
            "openssl-1.1.1t       | 3.7 MB    | :   0% 0.004179907462400222/1 [00:00<00:24, 25.03s/it]\u001b[A\u001b[A\u001b[A\n",
            "\n",
            "zstandard-0.19.0     | 474 KB    | :   3% 0.033748877371938005/1 [00:00<00:03,  3.50s/it]\u001b[A\u001b[A\n",
            "\n",
            "\n",
            "\n",
            "sqlite-3.41.1        | 1.2 MB    | :   1% 0.013294557540506855/1 [00:00<00:08,  8.53s/it]\u001b[A\u001b[A\u001b[A\u001b[A\n",
            "\n",
            "\n",
            "\n",
            "\n",
            "cryptography-39.0.1  | 1.4 MB    | :  86% 0.8603750110243896/1 [00:00<00:00,  5.03it/s]  \n",
            "\n",
            "\n",
            "openssl-1.1.1t       | 3.7 MB    | :  38% 0.37619167161601996/1 [00:00<00:00,  2.16it/s] \u001b[A\u001b[A\u001b[A\n",
            "\n",
            "\n",
            "\n",
            "\n",
            "pyopenssl-23.0.0     | 97 KB     | : 100% 1.0/1 [00:00<00:00,  1.11it/s]                \u001b[A\u001b[A\u001b[A\u001b[A\u001b[A\n",
            "requests-2.28.1      | 100 KB    | : 100% 1.0/1 [00:00<00:00,  3.32it/s]               \u001b[A\n",
            "requests-2.28.1      | 100 KB    | : 100% 1.0/1 [00:00<00:00,  3.32it/s]\u001b[A\n",
            "\n",
            "zstandard-0.19.0     | 474 KB    | : 100% 1.0/1 [00:00<00:00,  3.35it/s]                 \u001b[A\u001b[A\n",
            "\n",
            "zstandard-0.19.0     | 474 KB    | : 100% 1.0/1 [00:00<00:00,  3.35it/s]\u001b[A\u001b[A\n",
            "\n",
            "\n",
            "\n",
            "sqlite-3.41.1        | 1.2 MB    | : 100% 1.0/1 [00:00<00:00,  2.93it/s]                 \u001b[A\u001b[A\u001b[A\u001b[A\n",
            "\n",
            "\n",
            "\n",
            "sqlite-3.41.1        | 1.2 MB    | : 100% 1.0/1 [00:00<00:00,  2.93it/s]\u001b[A\u001b[A\u001b[A\u001b[A\n",
            "\n",
            "\n",
            "openssl-1.1.1t       | 3.7 MB    | : 100% 1.0/1 [00:00<00:00,  1.41it/s]                \u001b[A\u001b[A\u001b[A\n",
            "\n",
            "\n",
            "                                                                        \n",
            "                                                                        \u001b[A\n",
            "\n",
            "                                                                        \u001b[A\u001b[A\n",
            "\n",
            "\n",
            "                                                                        \u001b[A\u001b[A\u001b[A\n",
            "\n",
            "\n",
            "\n",
            "                                                                        \u001b[A\u001b[A\u001b[A\u001b[A\n",
            "\n",
            "\n",
            "\n",
            "\n",
            "                                                                        \u001b[A\u001b[A\u001b[A\u001b[A\u001b[A\n",
            "Preparing transaction: / \b\bdone\n",
            "Verifying transaction: \\ \b\b| \b\b/ \b\b- \b\bdone\n",
            "Executing transaction: | \b\b/ \b\bdone\n",
            "conda 23.1.0\n"
          ]
        }
      ]
    },
    {
      "cell_type": "markdown",
      "source": [
        "### install paddleocr evn"
      ],
      "metadata": {
        "id": "PRZTy9ox6cX9"
      }
    },
    {
      "cell_type": "code",
      "source": [
        "!conda create -n paddleocr -y python=3.6.4\n",
        "!conda activate paddleocr -y\n",
        "!conda init bash\n",
        "!conda update -y all"
      ],
      "metadata": {
        "colab": {
          "base_uri": "https://localhost:8080/"
        },
        "id": "UsYUeemM55m9",
        "outputId": "6b2c4060-6cce-454e-ada9-2846374ecdc1"
      },
      "execution_count": 14,
      "outputs": [
        {
          "output_type": "stream",
          "name": "stdout",
          "text": [
            "Collecting package metadata (current_repodata.json): - \b\b\\ \b\b| \b\b/ \b\b- \b\b\\ \b\b| \b\b/ \b\b- \b\b\\ \b\b| \b\bdone\n",
            "Solving environment: - \b\bfailed with repodata from current_repodata.json, will retry with next repodata source.\n",
            "Collecting package metadata (repodata.json): | \b\b/ \b\b- \b\b\\ \b\b| \b\b/ \b\b- \b\b\\ \b\b| \b\b/ \b\bdone\n",
            "Solving environment: \\ \b\b| \b\b/ \b\b- \b\bdone\n",
            "\n",
            "## Package Plan ##\n",
            "\n",
            "  environment location: /usr/local/envs/paddleocr\n",
            "\n",
            "  added / updated specs:\n",
            "    - python=3.6.4\n",
            "\n",
            "\n",
            "The following NEW packages will be INSTALLED:\n",
            "\n",
            "  _libgcc_mutex      pkgs/main/linux-64::_libgcc_mutex-0.1-main \n",
            "  _openmp_mutex      pkgs/main/linux-64::_openmp_mutex-5.1-1_gnu \n",
            "  ca-certificates    pkgs/main/linux-64::ca-certificates-2023.01.10-h06a4308_0 \n",
            "  certifi            pkgs/main/linux-64::certifi-2021.5.30-py36h06a4308_0 \n",
            "  libedit            pkgs/main/linux-64::libedit-3.1.20221030-h5eee18b_0 \n",
            "  libffi             pkgs/main/linux-64::libffi-3.2.1-hf484d3e_1007 \n",
            "  libgcc-ng          pkgs/main/linux-64::libgcc-ng-11.2.0-h1234567_1 \n",
            "  libgomp            pkgs/main/linux-64::libgomp-11.2.0-h1234567_1 \n",
            "  libstdcxx-ng       pkgs/main/linux-64::libstdcxx-ng-11.2.0-h1234567_1 \n",
            "  ncurses            pkgs/main/linux-64::ncurses-6.4-h6a678d5_0 \n",
            "  openssl            pkgs/main/linux-64::openssl-1.0.2u-h7b6447c_0 \n",
            "  pip                pkgs/main/linux-64::pip-21.2.2-py36h06a4308_0 \n",
            "  python             pkgs/main/linux-64::python-3.6.4-hc3d631a_3 \n",
            "  readline           pkgs/main/linux-64::readline-7.0-h7b6447c_5 \n",
            "  setuptools         pkgs/main/linux-64::setuptools-58.0.4-py36h06a4308_0 \n",
            "  sqlite             pkgs/main/linux-64::sqlite-3.33.0-h62c20be_0 \n",
            "  tk                 pkgs/main/linux-64::tk-8.6.12-h1ccaba5_0 \n",
            "  wheel              pkgs/main/noarch::wheel-0.37.1-pyhd3eb1b0_0 \n",
            "  xz                 pkgs/main/linux-64::xz-5.2.10-h5eee18b_1 \n",
            "  zlib               pkgs/main/linux-64::zlib-1.2.13-h5eee18b_0 \n",
            "\n",
            "\n",
            "\n",
            "Downloading and Extracting Packages\n",
            "\n",
            "Preparing transaction: | \b\b/ \b\b- \b\b\\ \b\bdone\n",
            "Verifying transaction: / \b\b- \b\b\\ \b\b| \b\b/ \b\b- \b\b\\ \b\b| \b\b/ \b\b- \b\b\\ \b\b| \b\b/ \b\b- \b\b\\ \b\b| \b\b/ \b\b- \b\b\\ \b\b| \b\bdone\n",
            "Executing transaction: - \b\b\\ \b\b| \b\b/ \b\b- \b\b\\ \b\b| \b\b/ \b\b- \b\b\\ \b\b| \b\b/ \b\b- \b\b\\ \b\b| \b\b/ \b\b- \b\b\\ \b\b| \b\b/ \b\b- \b\bdone\n",
            "#\n",
            "# To activate this environment, use\n",
            "#\n",
            "#     $ conda activate paddleocr\n",
            "#\n",
            "# To deactivate an active environment, use\n",
            "#\n",
            "#     $ conda deactivate\n",
            "\n",
            "\n",
            "CommandNotFoundError: Your shell has not been properly configured to use 'conda activate'.\n",
            "To initialize your shell, run\n",
            "\n",
            "    $ conda init <SHELL_NAME>\n",
            "\n",
            "Currently supported shells are:\n",
            "  - bash\n",
            "  - fish\n",
            "  - tcsh\n",
            "  - xonsh\n",
            "  - zsh\n",
            "  - powershell\n",
            "\n",
            "See 'conda init --help' for more information and options.\n",
            "\n",
            "IMPORTANT: You may need to close and restart your shell after running 'conda init'.\n",
            "\n",
            "\n",
            "no change     /usr/local/condabin/conda\n",
            "no change     /usr/local/bin/conda\n",
            "no change     /usr/local/bin/conda-env\n",
            "no change     /usr/local/bin/activate\n",
            "no change     /usr/local/bin/deactivate\n",
            "no change     /usr/local/etc/profile.d/conda.sh\n",
            "no change     /usr/local/etc/fish/conf.d/conda.fish\n",
            "no change     /usr/local/shell/condabin/Conda.psm1\n",
            "no change     /usr/local/shell/condabin/conda-hook.ps1\n",
            "no change     /usr/local/lib/python3.10/site-packages/xontrib/conda.xsh\n",
            "no change     /usr/local/etc/profile.d/conda.csh\n",
            "no change     /root/.bashrc\n",
            "No action taken.\n",
            "\n",
            "PackageNotInstalledError: Package is not installed in prefix.\n",
            "  prefix: /usr/local\n",
            "  package name: all\n",
            "\n",
            "\n"
          ]
        }
      ]
    },
    {
      "cell_type": "code",
      "source": [
        "!pip3 install --upgrade pip\n",
        "!conda config --add channels https://mirrors.tuna.tsinghua.edu.cn/anaconda/pkgs/free/\n",
        "!conda config --add channels https://mirrors.tuna.tsinghua.edu.cn/anaconda/pkgs/main/\n",
        "!conda config --add channels https://mirrors.tuna.tsinghua.edu.cn/anaconda/cloud/Paddle/\n",
        "!conda config --set show_channel_urls yes\n",
        "!apt-get update -yy\n",
        "!apt-get install -yy libffi-dev libssl-dev libxslt-dev libjpeg-dev libfreetype6 libfreetype6-dev zlib1g-dev\n",
        "!conda install  -n paddleocr -y libgcc\n",
        "!conda run -n paddleocr python -m pip install paddlepaddle \"opencv-contrib-python-headless==4.2.0.32\" -i https://mirror.baidu.com/pypi/simple\n",
        "!conda run -n paddleocr python -m pip install \"paddleocr>=2.0.1\"\n",
        "# !conda run -n paddleocr python -m pip install shapely scikit-image imgaug pyclipper lmdb tqdm numpy visualdl rapidfuzz \"opencv-python==4.6.0.66\" \"opencv-contrib-python==4.6.0.66\" cython lxml premailer openpyxl attrdict Polygon3 \"lanms-neo==1.0.2\" \"PyMuPDF<1.21.0\"\n",
        "# !pip install --upgrade protobuf\n",
        "# !pip uninstall tensorflow\n",
        "# !pip install tensorflow==2.11.0\n",
        "# !pip install paddleocr"
      ],
      "metadata": {
        "colab": {
          "base_uri": "https://localhost:8080/"
        },
        "id": "J3j1DwZ55TBN",
        "outputId": "5e2ae9dc-4025-4425-a833-b78c99dd501d"
      },
      "execution_count": 1,
      "outputs": [
        {
          "output_type": "stream",
          "name": "stdout",
          "text": [
            "Looking in indexes: https://pypi.org/simple, https://us-python.pkg.dev/colab-wheels/public/simple/\n",
            "Requirement already satisfied: paddleocr>=2.0.1 in /usr/local/lib/python3.10/site-packages (2.6.1.3)\n",
            "Requirement already satisfied: opencv-contrib-python<=4.6.0.66 in /usr/local/lib/python3.10/site-packages (from paddleocr>=2.0.1) (4.6.0.66)\n",
            "Requirement already satisfied: cython in /usr/local/lib/python3.10/site-packages (from paddleocr>=2.0.1) (0.29.33)\n",
            "Requirement already satisfied: opencv-python<=4.6.0.66 in /usr/local/lib/python3.10/site-packages (from paddleocr>=2.0.1) (4.6.0.66)\n",
            "Requirement already satisfied: numpy in /usr/local/lib/python3.10/site-packages (from paddleocr>=2.0.1) (1.24.2)\n",
            "Requirement already satisfied: pdf2docx in /usr/local/lib/python3.10/site-packages (from paddleocr>=2.0.1) (0.5.6)\n",
            "Requirement already satisfied: lxml in /usr/local/lib/python3.10/site-packages (from paddleocr>=2.0.1) (4.9.2)\n",
            "Requirement already satisfied: rapidfuzz in /usr/local/lib/python3.10/site-packages (from paddleocr>=2.0.1) (2.13.7)\n",
            "Requirement already satisfied: premailer in /usr/local/lib/python3.10/site-packages (from paddleocr>=2.0.1) (3.10.0)\n",
            "Requirement already satisfied: fonttools>=4.24.0 in /usr/local/lib/python3.10/site-packages (from paddleocr>=2.0.1) (4.39.2)\n",
            "Requirement already satisfied: tqdm in /usr/local/lib/python3.10/site-packages (from paddleocr>=2.0.1) (4.64.1)\n",
            "Requirement already satisfied: openpyxl in /usr/local/lib/python3.10/site-packages (from paddleocr>=2.0.1) (3.1.2)\n",
            "Requirement already satisfied: lmdb in /usr/local/lib/python3.10/site-packages (from paddleocr>=2.0.1) (1.4.0)\n",
            "Requirement already satisfied: pyclipper in /usr/local/lib/python3.10/site-packages (from paddleocr>=2.0.1) (1.3.0.post4)\n",
            "Requirement already satisfied: fire>=0.3.0 in /usr/local/lib/python3.10/site-packages (from paddleocr>=2.0.1) (0.5.0)\n",
            "Requirement already satisfied: scikit-image in /usr/local/lib/python3.10/site-packages (from paddleocr>=2.0.1) (0.20.0)\n",
            "Requirement already satisfied: attrdict in /usr/local/lib/python3.10/site-packages (from paddleocr>=2.0.1) (2.0.1)\n",
            "Requirement already satisfied: beautifulsoup4 in /usr/local/lib/python3.10/site-packages (from paddleocr>=2.0.1) (4.12.0)\n",
            "Requirement already satisfied: visualdl in /usr/local/lib/python3.10/site-packages (from paddleocr>=2.0.1) (2.5.1)\n",
            "Requirement already satisfied: imgaug in /usr/local/lib/python3.10/site-packages (from paddleocr>=2.0.1) (0.4.0)\n",
            "Requirement already satisfied: python-docx in /usr/local/lib/python3.10/site-packages (from paddleocr>=2.0.1) (0.8.11)\n",
            "Requirement already satisfied: PyMuPDF<1.21.0 in /usr/local/lib/python3.10/site-packages (from paddleocr>=2.0.1) (1.20.2)\n",
            "Requirement already satisfied: shapely in /usr/local/lib/python3.10/site-packages (from paddleocr>=2.0.1) (2.0.1)\n",
            "Requirement already satisfied: six in /usr/local/lib/python3.10/site-packages (from fire>=0.3.0->paddleocr>=2.0.1) (1.16.0)\n",
            "Requirement already satisfied: termcolor in /usr/local/lib/python3.10/site-packages (from fire>=0.3.0->paddleocr>=2.0.1) (2.2.0)\n",
            "Requirement already satisfied: soupsieve>1.2 in /usr/local/lib/python3.10/site-packages (from beautifulsoup4->paddleocr>=2.0.1) (2.4)\n",
            "Requirement already satisfied: Pillow in /usr/local/lib/python3.10/site-packages (from imgaug->paddleocr>=2.0.1) (9.4.0)\n",
            "Requirement already satisfied: matplotlib in /usr/local/lib/python3.10/site-packages (from imgaug->paddleocr>=2.0.1) (3.7.1)\n",
            "Requirement already satisfied: imageio in /usr/local/lib/python3.10/site-packages (from imgaug->paddleocr>=2.0.1) (2.26.1)\n",
            "Requirement already satisfied: scipy in /usr/local/lib/python3.10/site-packages (from imgaug->paddleocr>=2.0.1) (1.10.1)\n",
            "Requirement already satisfied: packaging>=20.0 in /usr/local/lib/python3.10/site-packages (from scikit-image->paddleocr>=2.0.1) (23.0)\n",
            "Requirement already satisfied: networkx>=2.8 in /usr/local/lib/python3.10/site-packages (from scikit-image->paddleocr>=2.0.1) (3.0)\n",
            "Requirement already satisfied: lazy_loader>=0.1 in /usr/local/lib/python3.10/site-packages (from scikit-image->paddleocr>=2.0.1) (0.2)\n",
            "Requirement already satisfied: tifffile>=2019.7.26 in /usr/local/lib/python3.10/site-packages (from scikit-image->paddleocr>=2.0.1) (2023.3.21)\n",
            "Requirement already satisfied: PyWavelets>=1.1.1 in /usr/local/lib/python3.10/site-packages (from scikit-image->paddleocr>=2.0.1) (1.4.1)\n",
            "Requirement already satisfied: et-xmlfile in /usr/local/lib/python3.10/site-packages (from openpyxl->paddleocr>=2.0.1) (1.1.0)\n",
            "Requirement already satisfied: cssutils in /usr/local/lib/python3.10/site-packages (from premailer->paddleocr>=2.0.1) (2.6.0)\n",
            "Requirement already satisfied: requests in /usr/local/lib/python3.10/site-packages (from premailer->paddleocr>=2.0.1) (2.28.1)\n",
            "Requirement already satisfied: cssselect in /usr/local/lib/python3.10/site-packages (from premailer->paddleocr>=2.0.1) (1.2.0)\n",
            "Requirement already satisfied: cachetools in /usr/local/lib/python3.10/site-packages (from premailer->paddleocr>=2.0.1) (5.3.0)\n",
            "Requirement already satisfied: pandas in /usr/local/lib/python3.10/site-packages (from visualdl->paddleocr>=2.0.1) (1.5.3)\n",
            "Requirement already satisfied: tritonclient[all] in /usr/local/lib/python3.10/site-packages (from visualdl->paddleocr>=2.0.1) (2.31.0)\n",
            "Requirement already satisfied: protobuf>=3.20.0 in /usr/local/lib/python3.10/site-packages (from visualdl->paddleocr>=2.0.1) (3.20.3)\n",
            "Requirement already satisfied: gradio in /usr/local/lib/python3.10/site-packages (from visualdl->paddleocr>=2.0.1) (3.23.0)\n",
            "Requirement already satisfied: flask>=1.1.1 in /usr/local/lib/python3.10/site-packages (from visualdl->paddleocr>=2.0.1) (2.2.3)\n",
            "Requirement already satisfied: x2paddle in /usr/local/lib/python3.10/site-packages (from visualdl->paddleocr>=2.0.1) (1.4.0)\n",
            "Requirement already satisfied: psutil in /usr/local/lib/python3.10/site-packages (from visualdl->paddleocr>=2.0.1) (5.9.4)\n",
            "Requirement already satisfied: rarfile in /usr/local/lib/python3.10/site-packages (from visualdl->paddleocr>=2.0.1) (4.0)\n",
            "Requirement already satisfied: Flask-Babel>=3.0.0 in /usr/local/lib/python3.10/site-packages (from visualdl->paddleocr>=2.0.1) (3.0.1)\n",
            "Requirement already satisfied: bce-python-sdk in /usr/local/lib/python3.10/site-packages (from visualdl->paddleocr>=2.0.1) (0.8.79)\n",
            "Requirement already satisfied: onnx>=1.6.0 in /usr/local/lib/python3.10/site-packages (from visualdl->paddleocr>=2.0.1) (1.13.1)\n",
            "Requirement already satisfied: itsdangerous>=2.0 in /usr/local/lib/python3.10/site-packages (from flask>=1.1.1->visualdl->paddleocr>=2.0.1) (2.1.2)\n",
            "Requirement already satisfied: Jinja2>=3.0 in /usr/local/lib/python3.10/site-packages (from flask>=1.1.1->visualdl->paddleocr>=2.0.1) (3.1.2)\n",
            "Requirement already satisfied: click>=8.0 in /usr/local/lib/python3.10/site-packages (from flask>=1.1.1->visualdl->paddleocr>=2.0.1) (8.1.3)\n",
            "Requirement already satisfied: Werkzeug>=2.2.2 in /usr/local/lib/python3.10/site-packages (from flask>=1.1.1->visualdl->paddleocr>=2.0.1) (2.2.3)\n",
            "Requirement already satisfied: Babel<3.0.0,>=2.11.0 in /usr/local/lib/python3.10/site-packages (from Flask-Babel>=3.0.0->visualdl->paddleocr>=2.0.1) (2.12.1)\n",
            "Requirement already satisfied: pytz<2023.0,>=2022.7 in /usr/local/lib/python3.10/site-packages (from Flask-Babel>=3.0.0->visualdl->paddleocr>=2.0.1) (2022.7.1)\n",
            "Requirement already satisfied: typing-extensions>=3.6.2.1 in /usr/local/lib/python3.10/site-packages (from onnx>=1.6.0->visualdl->paddleocr>=2.0.1) (4.5.0)\n",
            "Requirement already satisfied: future>=0.6.0 in /usr/local/lib/python3.10/site-packages (from bce-python-sdk->visualdl->paddleocr>=2.0.1) (0.18.3)\n",
            "Requirement already satisfied: pycryptodome>=3.8.0 in /usr/local/lib/python3.10/site-packages (from bce-python-sdk->visualdl->paddleocr>=2.0.1) (3.17)\n",
            "Requirement already satisfied: ffmpy in /usr/local/lib/python3.10/site-packages (from gradio->visualdl->paddleocr>=2.0.1) (0.3.0)\n",
            "Requirement already satisfied: huggingface-hub>=0.13.0 in /usr/local/lib/python3.10/site-packages (from gradio->visualdl->paddleocr>=2.0.1) (0.13.3)\n",
            "Requirement already satisfied: markupsafe in /usr/local/lib/python3.10/site-packages (from gradio->visualdl->paddleocr>=2.0.1) (2.1.2)\n",
            "Requirement already satisfied: pyyaml in /usr/local/lib/python3.10/site-packages (from gradio->visualdl->paddleocr>=2.0.1) (6.0)\n",
            "Requirement already satisfied: fastapi in /usr/local/lib/python3.10/site-packages (from gradio->visualdl->paddleocr>=2.0.1) (0.95.0)\n",
            "Requirement already satisfied: uvicorn in /usr/local/lib/python3.10/site-packages (from gradio->visualdl->paddleocr>=2.0.1) (0.21.1)\n",
            "Requirement already satisfied: websockets>=10.0 in /usr/local/lib/python3.10/site-packages (from gradio->visualdl->paddleocr>=2.0.1) (10.4)\n",
            "Requirement already satisfied: altair>=4.2.0 in /usr/local/lib/python3.10/site-packages (from gradio->visualdl->paddleocr>=2.0.1) (4.2.2)\n",
            "Requirement already satisfied: aiohttp in /usr/local/lib/python3.10/site-packages (from gradio->visualdl->paddleocr>=2.0.1) (3.8.4)\n",
            "Requirement already satisfied: pydantic in /usr/local/lib/python3.10/site-packages (from gradio->visualdl->paddleocr>=2.0.1) (1.10.7)\n",
            "Requirement already satisfied: markdown-it-py[linkify]>=2.0.0 in /usr/local/lib/python3.10/site-packages (from gradio->visualdl->paddleocr>=2.0.1) (2.2.0)\n",
            "Requirement already satisfied: aiofiles in /usr/local/lib/python3.10/site-packages (from gradio->visualdl->paddleocr>=2.0.1) (23.1.0)\n",
            "Requirement already satisfied: httpx in /usr/local/lib/python3.10/site-packages (from gradio->visualdl->paddleocr>=2.0.1) (0.23.3)\n",
            "Requirement already satisfied: semantic-version in /usr/local/lib/python3.10/site-packages (from gradio->visualdl->paddleocr>=2.0.1) (2.10.0)\n",
            "Requirement already satisfied: orjson in /usr/local/lib/python3.10/site-packages (from gradio->visualdl->paddleocr>=2.0.1) (3.8.8)\n",
            "Requirement already satisfied: mdit-py-plugins<=0.3.3 in /usr/local/lib/python3.10/site-packages (from gradio->visualdl->paddleocr>=2.0.1) (0.3.3)\n",
            "Requirement already satisfied: fsspec in /usr/local/lib/python3.10/site-packages (from gradio->visualdl->paddleocr>=2.0.1) (2023.3.0)\n",
            "Requirement already satisfied: python-multipart in /usr/local/lib/python3.10/site-packages (from gradio->visualdl->paddleocr>=2.0.1) (0.0.6)\n",
            "Requirement already satisfied: pydub in /usr/local/lib/python3.10/site-packages (from gradio->visualdl->paddleocr>=2.0.1) (0.25.1)\n",
            "Requirement already satisfied: python-dateutil>=2.7 in /usr/local/lib/python3.10/site-packages (from matplotlib->imgaug->paddleocr>=2.0.1) (2.8.2)\n",
            "Requirement already satisfied: contourpy>=1.0.1 in /usr/local/lib/python3.10/site-packages (from matplotlib->imgaug->paddleocr>=2.0.1) (1.0.7)\n",
            "Requirement already satisfied: kiwisolver>=1.0.1 in /usr/local/lib/python3.10/site-packages (from matplotlib->imgaug->paddleocr>=2.0.1) (1.4.4)\n",
            "Requirement already satisfied: cycler>=0.10 in /usr/local/lib/python3.10/site-packages (from matplotlib->imgaug->paddleocr>=2.0.1) (0.11.0)\n",
            "Requirement already satisfied: pyparsing>=2.3.1 in /usr/local/lib/python3.10/site-packages (from matplotlib->imgaug->paddleocr>=2.0.1) (3.0.9)\n",
            "Requirement already satisfied: urllib3<1.27,>=1.21.1 in /usr/local/lib/python3.10/site-packages (from requests->premailer->paddleocr>=2.0.1) (1.26.14)\n",
            "Requirement already satisfied: idna<4,>=2.5 in /usr/local/lib/python3.10/site-packages (from requests->premailer->paddleocr>=2.0.1) (3.4)\n",
            "Requirement already satisfied: charset-normalizer<3,>=2 in /usr/local/lib/python3.10/site-packages (from requests->premailer->paddleocr>=2.0.1) (2.0.4)\n",
            "Requirement already satisfied: certifi>=2017.4.17 in /usr/local/lib/python3.10/site-packages (from requests->premailer->paddleocr>=2.0.1) (2022.12.7)\n",
            "Requirement already satisfied: python-rapidjson>=0.9.1 in /usr/local/lib/python3.10/site-packages (from tritonclient[all]->visualdl->paddleocr>=2.0.1) (1.10)\n",
            "Requirement already satisfied: geventhttpclient<=2.0.2,>=1.4.4 in /usr/local/lib/python3.10/site-packages (from tritonclient[all]->visualdl->paddleocr>=2.0.1) (2.0.2)\n",
            "Requirement already satisfied: grpcio>=1.41.0 in /usr/local/lib/python3.10/site-packages (from tritonclient[all]->visualdl->paddleocr>=2.0.1) (1.51.3)\n",
            "Requirement already satisfied: sympy in /usr/local/lib/python3.10/site-packages (from x2paddle->visualdl->paddleocr>=2.0.1) (1.11.1)\n",
            "Requirement already satisfied: async-timeout<5.0,>=4.0.0a3 in /usr/local/lib/python3.10/site-packages (from aiohttp->gradio->visualdl->paddleocr>=2.0.1) (4.0.2)\n",
            "Requirement already satisfied: aiosignal>=1.1.2 in /usr/local/lib/python3.10/site-packages (from aiohttp->gradio->visualdl->paddleocr>=2.0.1) (1.3.1)\n",
            "Requirement already satisfied: attrs>=17.3.0 in /usr/local/lib/python3.10/site-packages (from aiohttp->gradio->visualdl->paddleocr>=2.0.1) (22.2.0)\n",
            "Requirement already satisfied: multidict<7.0,>=4.5 in /usr/local/lib/python3.10/site-packages (from aiohttp->gradio->visualdl->paddleocr>=2.0.1) (6.0.4)\n",
            "Requirement already satisfied: yarl<2.0,>=1.0 in /usr/local/lib/python3.10/site-packages (from aiohttp->gradio->visualdl->paddleocr>=2.0.1) (1.8.2)\n",
            "Requirement already satisfied: frozenlist>=1.1.1 in /usr/local/lib/python3.10/site-packages (from aiohttp->gradio->visualdl->paddleocr>=2.0.1) (1.3.3)\n",
            "Requirement already satisfied: entrypoints in /usr/local/lib/python3.10/site-packages (from altair>=4.2.0->gradio->visualdl->paddleocr>=2.0.1) (0.4)\n",
            "Requirement already satisfied: toolz in /usr/local/lib/python3.10/site-packages (from altair>=4.2.0->gradio->visualdl->paddleocr>=2.0.1) (0.12.0)\n",
            "Requirement already satisfied: jsonschema>=3.0 in /usr/local/lib/python3.10/site-packages (from altair>=4.2.0->gradio->visualdl->paddleocr>=2.0.1) (4.17.3)\n",
            "Requirement already satisfied: gevent>=0.13 in /usr/local/lib/python3.10/site-packages (from geventhttpclient<=2.0.2,>=1.4.4->tritonclient[all]->visualdl->paddleocr>=2.0.1) (22.10.2)\n",
            "Requirement already satisfied: brotli in /usr/local/lib/python3.10/site-packages (from geventhttpclient<=2.0.2,>=1.4.4->tritonclient[all]->visualdl->paddleocr>=2.0.1) (1.0.9)\n",
            "Requirement already satisfied: filelock in /usr/local/lib/python3.10/site-packages (from huggingface-hub>=0.13.0->gradio->visualdl->paddleocr>=2.0.1) (3.10.2)\n",
            "Requirement already satisfied: mdurl~=0.1 in /usr/local/lib/python3.10/site-packages (from markdown-it-py[linkify]>=2.0.0->gradio->visualdl->paddleocr>=2.0.1) (0.1.2)\n",
            "Requirement already satisfied: linkify-it-py<3,>=1 in /usr/local/lib/python3.10/site-packages (from markdown-it-py[linkify]>=2.0.0->gradio->visualdl->paddleocr>=2.0.1) (2.0.0)\n",
            "Requirement already satisfied: starlette<0.27.0,>=0.26.1 in /usr/local/lib/python3.10/site-packages (from fastapi->gradio->visualdl->paddleocr>=2.0.1) (0.26.1)\n",
            "Requirement already satisfied: rfc3986[idna2008]<2,>=1.3 in /usr/local/lib/python3.10/site-packages (from httpx->gradio->visualdl->paddleocr>=2.0.1) (1.5.0)\n",
            "Requirement already satisfied: sniffio in /usr/local/lib/python3.10/site-packages (from httpx->gradio->visualdl->paddleocr>=2.0.1) (1.3.0)\n",
            "Requirement already satisfied: httpcore<0.17.0,>=0.15.0 in /usr/local/lib/python3.10/site-packages (from httpx->gradio->visualdl->paddleocr>=2.0.1) (0.16.3)\n",
            "Requirement already satisfied: mpmath>=0.19 in /usr/local/lib/python3.10/site-packages (from sympy->x2paddle->visualdl->paddleocr>=2.0.1) (1.3.0)\n",
            "Requirement already satisfied: h11>=0.8 in /usr/local/lib/python3.10/site-packages (from uvicorn->gradio->visualdl->paddleocr>=2.0.1) (0.14.0)\n",
            "Requirement already satisfied: zope.interface in /usr/local/lib/python3.10/site-packages (from gevent>=0.13->geventhttpclient<=2.0.2,>=1.4.4->tritonclient[all]->visualdl->paddleocr>=2.0.1) (6.0)\n",
            "Requirement already satisfied: greenlet>=2.0.0 in /usr/local/lib/python3.10/site-packages (from gevent>=0.13->geventhttpclient<=2.0.2,>=1.4.4->tritonclient[all]->visualdl->paddleocr>=2.0.1) (2.0.2)\n",
            "Requirement already satisfied: setuptools in /usr/local/lib/python3.10/site-packages (from gevent>=0.13->geventhttpclient<=2.0.2,>=1.4.4->tritonclient[all]->visualdl->paddleocr>=2.0.1) (65.6.3)\n",
            "Requirement already satisfied: zope.event in /usr/local/lib/python3.10/site-packages (from gevent>=0.13->geventhttpclient<=2.0.2,>=1.4.4->tritonclient[all]->visualdl->paddleocr>=2.0.1) (4.6)\n",
            "Requirement already satisfied: anyio<5.0,>=3.0 in /usr/local/lib/python3.10/site-packages (from httpcore<0.17.0,>=0.15.0->httpx->gradio->visualdl->paddleocr>=2.0.1) (3.6.2)\n",
            "Requirement already satisfied: pyrsistent!=0.17.0,!=0.17.1,!=0.17.2,>=0.14.0 in /usr/local/lib/python3.10/site-packages (from jsonschema>=3.0->altair>=4.2.0->gradio->visualdl->paddleocr>=2.0.1) (0.19.3)\n",
            "Requirement already satisfied: uc-micro-py in /usr/local/lib/python3.10/site-packages (from linkify-it-py<3,>=1->markdown-it-py[linkify]>=2.0.0->gradio->visualdl->paddleocr>=2.0.1) (1.0.1)\n",
            "\u001b[33mWARNING: Running pip as the 'root' user can result in broken permissions and conflicting behaviour with the system package manager. It is recommended to use a virtual environment instead: https://pip.pypa.io/warnings/venv\u001b[0m\u001b[33m\n",
            "\u001b[0m"
          ]
        }
      ]
    },
    {
      "cell_type": "code",
      "source": [
        "%cd /content/myocr\n",
        "!apt-get update -yy\n",
        "!apt-get install -yy libffi-dev libssl-dev libxslt-dev libjpeg-dev\n",
        "!conda update -n paddleocr -c defaults conda\n",
        "!conda activate PaddleOCR -y\n",
        "!conda init bash\n",
        "!pip install paddlepaddle \"opencv-contrib-python-headless==4.2.0.32\" -i https://mirror.baidu.com/pypi/simple\n",
        "!pip install \"paddleocr>=2.0.1\"\n",
        "!conda run -n paddleocr paddleocr --image_dir testImg/xx1.jpeg --use_angle_cls true --use_gpu false"
      ],
      "metadata": {
        "colab": {
          "base_uri": "https://localhost:8080/"
        },
        "id": "AtZJVLDy3wsw",
        "outputId": "70b09233-d69e-49d3-eb28-ccfd279efd4f"
      },
      "execution_count": 9,
      "outputs": [
        {
          "output_type": "stream",
          "name": "stdout",
          "text": [
            "/content/myocr\n",
            "[2023/03/23 10:52:57] ppocr DEBUG: Namespace(help='==SUPPRESS==', use_gpu=False, use_xpu=False, use_npu=False, ir_optim=True, use_tensorrt=False, min_subgraph_size=15, precision='fp32', gpu_mem=500, image_dir='testImg/xx1.jpeg', page_num=0, det_algorithm='DB', det_model_dir='/root/.paddleocr/whl/det/ch/ch_PP-OCRv3_det_infer', det_limit_side_len=960, det_limit_type='max', det_box_type='quad', det_db_thresh=0.3, det_db_box_thresh=0.6, det_db_unclip_ratio=1.5, max_batch_size=10, use_dilation=False, det_db_score_mode='fast', det_east_score_thresh=0.8, det_east_cover_thresh=0.1, det_east_nms_thresh=0.2, det_sast_score_thresh=0.5, det_sast_nms_thresh=0.2, det_pse_thresh=0, det_pse_box_thresh=0.85, det_pse_min_area=16, det_pse_scale=1, scales=[8, 16, 32], alpha=1.0, beta=1.0, fourier_degree=5, rec_algorithm='SVTR_LCNet', rec_model_dir='/root/.paddleocr/whl/rec/ch/ch_PP-OCRv3_rec_infer', rec_image_inverse=True, rec_image_shape='3, 48, 320', rec_batch_num=6, max_text_length=25, rec_char_dict_path='/usr/local/lib/python3.10/site-packages/paddleocr/ppocr/utils/ppocr_keys_v1.txt', use_space_char=True, vis_font_path='./doc/fonts/simfang.ttf', drop_score=0.5, e2e_algorithm='PGNet', e2e_model_dir=None, e2e_limit_side_len=768, e2e_limit_type='max', e2e_pgnet_score_thresh=0.5, e2e_char_dict_path='./ppocr/utils/ic15_dict.txt', e2e_pgnet_valid_set='totaltext', e2e_pgnet_mode='fast', use_angle_cls=True, cls_model_dir='/root/.paddleocr/whl/cls/ch_ppocr_mobile_v2.0_cls_infer', cls_image_shape='3, 48, 192', label_list=['0', '180'], cls_batch_num=6, cls_thresh=0.9, enable_mkldnn=False, cpu_threads=10, use_pdserving=False, warmup=False, sr_model_dir=None, sr_image_shape='3, 32, 128', sr_batch_num=1, draw_img_save_dir='./inference_results', save_crop_res=False, crop_res_save_dir='./output', use_mp=False, total_process_num=1, process_id=0, benchmark=False, save_log_path='./log_output/', show_log=True, use_onnx=False, output='./output', table_max_len=488, table_algorithm='TableAttn', table_model_dir=None, merge_no_span_structure=True, table_char_dict_path=None, layout_model_dir=None, layout_dict_path=None, layout_score_threshold=0.5, layout_nms_threshold=0.5, kie_algorithm='LayoutXLM', ser_model_dir=None, re_model_dir=None, use_visual_backbone=True, ser_dict_path='../train_data/XFUND/class_list_xfun.txt', ocr_order_method=None, mode='structure', image_orientation=False, layout=True, table=True, ocr=True, recovery=False, use_pdf2docx_api=False, lang='ch', det=True, rec=True, type='ocr', ocr_version='PP-OCRv3', structure_version='PP-StructureV2')\n",
            "[2023/03/23 10:52:58] ppocr INFO: **********testImg/xx1.jpeg**********\n",
            "[2023/03/23 10:52:59] ppocr DEBUG: dt_boxes num : 2, elapse : 0.6623775959014893\n",
            "[2023/03/23 10:52:59] ppocr DEBUG: cls num  : 2, elapse : 0.025337696075439453\n",
            "[2023/03/23 10:52:59] ppocr DEBUG: rec_res num  : 2, elapse : 0.21651601791381836\n",
            "[2023/03/23 10:52:59] ppocr INFO: [[[644.0, 115.0], [664.0, 115.0], [664.0, 127.0], [644.0, 127.0]], ('RH2', 0.7191641926765442)]\n",
            "[2023/03/23 10:52:59] ppocr INFO: [[[253.0, 332.0], [418.0, 336.0], [417.0, 384.0], [252.0, 379.0]], ('冀H·17677', 0.9625365734100342)]\n",
            "\n",
            "/usr/local/lib/python3.10/site-packages/setuptools/__init__.py:10: DeprecationWarning: The distutils package is deprecated and slated for removal in Python 3.12. Use setuptools or check PEP 632 for potential alternatives\n",
            "  import distutils.core\n",
            "/usr/local/lib/python3.10/distutils/command/build_scripts.py:7: DeprecationWarning: The distutils.sysconfig module is deprecated, use sysconfig instead\n",
            "  from distutils import sysconfig\n",
            "\n"
          ]
        }
      ]
    }
  ]
}